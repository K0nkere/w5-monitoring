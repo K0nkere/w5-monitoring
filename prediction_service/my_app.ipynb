{
 "cells": [
  {
   "cell_type": "code",
   "execution_count": 1,
   "id": "845df39d",
   "metadata": {},
   "outputs": [],
   "source": [
    "import os\n",
    "import pickle\n",
    "\n",
    "import requests\n",
    "from flask import Flask, request, jsonify\n",
    "\n",
    "from pymongo import MongoClient\n",
    "\n",
    "\n",
    "MODEL_FILE = os.getenv('MODEL_FILE', 'lin_reg.bin')\n",
    "MONGODB_ADDRESS = os.getenv('MONGODB_ADDRESS', 'mongodb://127.0.0.1:27017')\n",
    "EVIDENTLY_SERVICE_ADDRESS = os.getenv('EVIDENTLY_SERVICE_ADDRESS', 'http://127.0.0.1:5000')"
   ]
  },
  {
   "cell_type": "code",
   "execution_count": 2,
   "id": "8bec55dc",
   "metadata": {},
   "outputs": [],
   "source": [
    "with open(MODEL_FILE,'rb') as f_in:\n",
    "    dv, lr = pickle.load(f_in)"
   ]
  },
  {
   "cell_type": "code",
   "execution_count": 3,
   "id": "65f6a676",
   "metadata": {},
   "outputs": [],
   "source": [
    "app = Flask('Duration')\n",
    "\n",
    "mongo_client = MongoClient(MONGODB_ADDRESS)\n",
    "\n",
    "db = mongo_client.get_database('prediction_service')\n",
    "collection = db.get_collection('data')"
   ]
  },
  {
   "cell_type": "code",
   "execution_count": 4,
   "id": "e32dd11e",
   "metadata": {},
   "outputs": [
    {
     "name": "stdout",
     "output_type": "stream",
     "text": [
      " * Serving Flask app \"Duration\" (lazy loading)\n",
      " * Environment: production\n",
      "\u001b[31m   WARNING: This is a development server. Do not use it in a production deployment.\u001b[0m\n",
      "\u001b[2m   Use a production WSGI server instead.\u001b[0m\n",
      " * Debug mode: on\n"
     ]
    },
    {
     "name": "stderr",
     "output_type": "stream",
     "text": [
      " * Running on all addresses.\n",
      "   WARNING: This is a development server. Do not use it in a production deployment.\n",
      " * Running on http://10.129.0.20:9696/ (Press CTRL+C to quit)\n",
      " * Restarting with watchdog (inotify)\n",
      "Traceback (most recent call last):\n",
      "  File \"/home/kkr/anaconda3/lib/python3.9/site-packages/ipykernel_launcher.py\", line 16, in <module>\n",
      "    app.launch_new_instance()\n",
      "  File \"/home/kkr/anaconda3/lib/python3.9/site-packages/traitlets/config/application.py\", line 845, in launch_instance\n",
      "    app.initialize(argv)\n",
      "  File \"/home/kkr/anaconda3/lib/python3.9/site-packages/traitlets/config/application.py\", line 88, in inner\n",
      "    return method(app, *args, **kwargs)\n",
      "  File \"/home/kkr/anaconda3/lib/python3.9/site-packages/ipykernel/kernelapp.py\", line 632, in initialize\n",
      "    self.init_sockets()\n",
      "  File \"/home/kkr/anaconda3/lib/python3.9/site-packages/ipykernel/kernelapp.py\", line 282, in init_sockets\n",
      "    self.shell_port = self._bind_socket(self.shell_socket, self.shell_port)\n",
      "  File \"/home/kkr/anaconda3/lib/python3.9/site-packages/ipykernel/kernelapp.py\", line 229, in _bind_socket\n",
      "    return self._try_bind_socket(s, port)\n",
      "  File \"/home/kkr/anaconda3/lib/python3.9/site-packages/ipykernel/kernelapp.py\", line 205, in _try_bind_socket\n",
      "    s.bind(\"tcp://%s:%i\" % (self.ip, port))\n",
      "  File \"/home/kkr/anaconda3/lib/python3.9/site-packages/zmq/sugar/socket.py\", line 214, in bind\n",
      "    super().bind(addr)\n",
      "  File \"zmq/backend/cython/socket.pyx\", line 540, in zmq.backend.cython.socket.Socket.bind\n",
      "  File \"zmq/backend/cython/checkrc.pxd\", line 28, in zmq.backend.cython.checkrc._check_rc\n",
      "zmq.error.ZMQError: Address already in use\n"
     ]
    },
    {
     "ename": "SystemExit",
     "evalue": "1",
     "output_type": "error",
     "traceback": [
      "An exception has occurred, use %tb to see the full traceback.\n",
      "\u001b[0;31mSystemExit\u001b[0m\u001b[0;31m:\u001b[0m 1\n"
     ]
    },
    {
     "name": "stderr",
     "output_type": "stream",
     "text": [
      "/home/kkr/anaconda3/lib/python3.9/site-packages/IPython/core/interactiveshell.py:3377: UserWarning: To exit: use 'exit', 'quit', or Ctrl-D.\n",
      "  warn(\"To exit: use 'exit', 'quit', or Ctrl-D.\", stacklevel=1)\n"
     ]
    }
   ],
   "source": [
    "@app.route('/predict', methods = ['POST'])\n",
    "def predict():\n",
    "    \n",
    "    ride = request.get_json()\n",
    "    \n",
    "    record = {}\n",
    "    record['PU_DO'] = '{:}_{:}'.format(ride.get('PULocation'), ride.get('DOLocation'))\n",
    "    \n",
    "    X = dv.transform([record])\n",
    "    y_pred = lr.predict(X)\n",
    "    \n",
    "    result = {\n",
    "        'duration':float(y_pred)\n",
    "    }\n",
    "    \n",
    "    save_to_db(record, y_pred) # prediction -> y_pred\n",
    "    save_to_evidently_service(record, y_pred) # prediction ->y_pred\n",
    "    \n",
    "    return jsonify(result)\n",
    "\n",
    "def save_to_db(record, prediction):\n",
    "    rec = record.copy()\n",
    "    rec['prediction'] = prediction\n",
    "    \n",
    "    collectin.insert_one(rec)\n",
    "\n",
    "def save_to_evidently_service(record, prediction):\n",
    "    rec = record.copy()\n",
    "    rec['prediction'] = prediction\n",
    "    requests.post(f'{EVIDENTLY_SERVICE_ADDRESS}/iterate/taxi', json(rec))\n",
    "\n",
    "if __name__ == '__main__':\n",
    "    app.run(debug = True, host = '0.0.0.0', port = 9696)"
   ]
  },
  {
   "cell_type": "code",
   "execution_count": 43,
   "id": "7ef90b06",
   "metadata": {},
   "outputs": [
    {
     "data": {
      "text/plain": [
       "9.53392026179451"
      ]
     },
     "execution_count": 43,
     "metadata": {},
     "output_type": "execute_result"
    }
   ],
   "source": [
    "ride = {}\n",
    "ride['PULocation']= 11\n",
    "ride['DOLocation']= 21\n",
    "features = {}\n",
    "features['PU_DO'] = '{:}_{:}'.format(ride.get('PULocation'), ride.get('DOLocation'))\n",
    "\n",
    "X = dv.transform([features])\n",
    "float(lr.predict(X))"
   ]
  },
  {
   "cell_type": "code",
   "execution_count": 11,
   "id": "52499f6e",
   "metadata": {},
   "outputs": [
    {
     "name": "stderr",
     "output_type": "stream",
     "text": [
      "/home/kkr/anaconda3/lib/python3.9/site-packages/IPython/core/magics/execution.py:490: UserWarning: Error changing user exception modes.\n",
      "Unrecognized mode in FormattedTB: <Off>\n",
      "Valid modes: ['Plain', 'Context', 'Verbose', 'Minimal']\n",
      "  warn('Error changing %s exception modes.\\n%s' %\n"
     ]
    }
   ],
   "source": []
  },
  {
   "cell_type": "code",
   "execution_count": null,
   "id": "105ceee5",
   "metadata": {},
   "outputs": [],
   "source": []
  }
 ],
 "metadata": {
  "kernelspec": {
   "display_name": "Python 3 (ipykernel)",
   "language": "python",
   "name": "python3"
  },
  "language_info": {
   "codemirror_mode": {
    "name": "ipython",
    "version": 3
   },
   "file_extension": ".py",
   "mimetype": "text/x-python",
   "name": "python",
   "nbconvert_exporter": "python",
   "pygments_lexer": "ipython3",
   "version": "3.9.12"
  }
 },
 "nbformat": 4,
 "nbformat_minor": 5
}
